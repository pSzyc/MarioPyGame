{
 "cells": [
  {
   "cell_type": "code",
   "execution_count": 8,
   "metadata": {},
   "outputs": [],
   "source": [
    "def staircase(n, x, y, width, height, interval = 120):\n",
    "    staircase = []\n",
    "    for i in range(n):\n",
    "        staircase.append(f\"Ground {x + i * (width + interval)} {y + i * height} {width} {height}\\n\")\n",
    "    return staircase"
   ]
  },
  {
   "cell_type": "code",
   "execution_count": 10,
   "metadata": {},
   "outputs": [
    {
     "name": "stdout",
     "output_type": "stream",
     "text": [
      "Ground 3320 400 160 80\n",
      "Ground 3600 480 160 80\n",
      "Ground 3880 560 160 80\n",
      "Ground 4160 640 160 80\n",
      "Ground 4440 720 160 80\n",
      "\n"
     ]
    }
   ],
   "source": [
    "print(\"\".join(staircase(5, 3200 + 120, 400, 160, 80)))"
   ]
  },
  {
   "cell_type": "code",
   "execution_count": null,
   "metadata": {},
   "outputs": [],
   "source": []
  }
 ],
 "metadata": {
  "kernelspec": {
   "display_name": "Python 3",
   "language": "python",
   "name": "python3"
  },
  "language_info": {
   "codemirror_mode": {
    "name": "ipython",
    "version": 3
   },
   "file_extension": ".py",
   "mimetype": "text/x-python",
   "name": "python",
   "nbconvert_exporter": "python",
   "pygments_lexer": "ipython3",
   "version": "3.11.6"
  }
 },
 "nbformat": 4,
 "nbformat_minor": 2
}
